{
  "nbformat": 4,
  "nbformat_minor": 0,
  "metadata": {
    "colab": {
      "provenance": []
    },
    "kernelspec": {
      "name": "python3",
      "display_name": "Python 3"
    },
    "language_info": {
      "name": "python"
    }
  },
  "cells": [
    {
      "cell_type": "code",
      "execution_count": 1,
      "metadata": {
        "colab": {
          "base_uri": "https://localhost:8080/"
        },
        "id": "gEJ7jmsN7VZe",
        "outputId": "0abd963d-c562-4b02-a63a-7d94490bfaa8"
      },
      "outputs": [
        {
          "output_type": "stream",
          "name": "stdout",
          "text": [
            "Mounted at /content/drive\n"
          ]
        }
      ],
      "source": [
        "from google.colab import drive\n",
        "drive.mount('/content/drive')\n"
      ]
    },
    {
      "cell_type": "code",
      "source": [
        "import pandas as pd\n",
        "\n",
        "file_path = '/content/drive/MyDrive/coretech_inquiries.csv'\n",
        "df = pd.read_csv(file_path)\n",
        "\n",
        "print(df.head())\n",
        "print(df.shape)\n"
      ],
      "metadata": {
        "colab": {
          "base_uri": "https://localhost:8080/"
        },
        "id": "8frOCOob8RXB",
        "outputId": "6308666c-0dba-45a2-9bf5-29e23bbfb01f"
      },
      "execution_count": 2,
      "outputs": [
        {
          "output_type": "stream",
          "name": "stdout",
          "text": [
            "                                                text               label\n",
            "0  Seeking expertise to set up a website redesign...  Project Management\n",
            "1  Looking for someone to render an exterior buil...         3D Modeling\n",
            "2  Please help to lead a distributed team risk re...  Project Management\n",
            "3  Can you someone to develop a multi‑vendor mark...     Web Development\n",
            "4  Looking for someone to maintain a CMS with pay...     Web Development\n",
            "(12500, 2)\n"
          ]
        }
      ]
    },
    {
      "cell_type": "code",
      "source": [
        "\n",
        "# quick peek\n",
        "display(df.head(10))\n"
      ],
      "metadata": {
        "colab": {
          "base_uri": "https://localhost:8080/",
          "height": 363
        },
        "id": "hm4NhshNxu0Q",
        "outputId": "f533fafb-354a-4e49-953d-7bdca9722763"
      },
      "execution_count": 3,
      "outputs": [
        {
          "output_type": "display_data",
          "data": {
            "text/plain": [
              "                                                text               label\n",
              "0  Seeking expertise to set up a website redesign...  Project Management\n",
              "1  Looking for someone to render an exterior buil...         3D Modeling\n",
              "2  Please help to lead a distributed team risk re...  Project Management\n",
              "3  Can you someone to develop a multi‑vendor mark...     Web Development\n",
              "4  Looking for someone to maintain a CMS with pay...     Web Development\n",
              "5  Interested in expertise to manage a product la...  Project Management\n",
              "6  Can you help to model a product prototype UV‑u...         3D Modeling\n",
              "7  Interested in someone to redesign a CMS with A...     Web Development\n",
              "8  Looking for expertise to audit resource alloca...  Project Management\n",
              "9  We need support to render a 3D logo with PBR t...         3D Modeling"
            ],
            "text/html": [
              "\n",
              "  <div id=\"df-1eba9ee0-868c-4f8c-b91b-9c8a2c00b063\" class=\"colab-df-container\">\n",
              "    <div>\n",
              "<style scoped>\n",
              "    .dataframe tbody tr th:only-of-type {\n",
              "        vertical-align: middle;\n",
              "    }\n",
              "\n",
              "    .dataframe tbody tr th {\n",
              "        vertical-align: top;\n",
              "    }\n",
              "\n",
              "    .dataframe thead th {\n",
              "        text-align: right;\n",
              "    }\n",
              "</style>\n",
              "<table border=\"1\" class=\"dataframe\">\n",
              "  <thead>\n",
              "    <tr style=\"text-align: right;\">\n",
              "      <th></th>\n",
              "      <th>text</th>\n",
              "      <th>label</th>\n",
              "    </tr>\n",
              "  </thead>\n",
              "  <tbody>\n",
              "    <tr>\n",
              "      <th>0</th>\n",
              "      <td>Seeking expertise to set up a website redesign...</td>\n",
              "      <td>Project Management</td>\n",
              "    </tr>\n",
              "    <tr>\n",
              "      <th>1</th>\n",
              "      <td>Looking for someone to render an exterior buil...</td>\n",
              "      <td>3D Modeling</td>\n",
              "    </tr>\n",
              "    <tr>\n",
              "      <th>2</th>\n",
              "      <td>Please help to lead a distributed team risk re...</td>\n",
              "      <td>Project Management</td>\n",
              "    </tr>\n",
              "    <tr>\n",
              "      <th>3</th>\n",
              "      <td>Can you someone to develop a multi‑vendor mark...</td>\n",
              "      <td>Web Development</td>\n",
              "    </tr>\n",
              "    <tr>\n",
              "      <th>4</th>\n",
              "      <td>Looking for someone to maintain a CMS with pay...</td>\n",
              "      <td>Web Development</td>\n",
              "    </tr>\n",
              "    <tr>\n",
              "      <th>5</th>\n",
              "      <td>Interested in expertise to manage a product la...</td>\n",
              "      <td>Project Management</td>\n",
              "    </tr>\n",
              "    <tr>\n",
              "      <th>6</th>\n",
              "      <td>Can you help to model a product prototype UV‑u...</td>\n",
              "      <td>3D Modeling</td>\n",
              "    </tr>\n",
              "    <tr>\n",
              "      <th>7</th>\n",
              "      <td>Interested in someone to redesign a CMS with A...</td>\n",
              "      <td>Web Development</td>\n",
              "    </tr>\n",
              "    <tr>\n",
              "      <th>8</th>\n",
              "      <td>Looking for expertise to audit resource alloca...</td>\n",
              "      <td>Project Management</td>\n",
              "    </tr>\n",
              "    <tr>\n",
              "      <th>9</th>\n",
              "      <td>We need support to render a 3D logo with PBR t...</td>\n",
              "      <td>3D Modeling</td>\n",
              "    </tr>\n",
              "  </tbody>\n",
              "</table>\n",
              "</div>\n",
              "    <div class=\"colab-df-buttons\">\n",
              "\n",
              "  <div class=\"colab-df-container\">\n",
              "    <button class=\"colab-df-convert\" onclick=\"convertToInteractive('df-1eba9ee0-868c-4f8c-b91b-9c8a2c00b063')\"\n",
              "            title=\"Convert this dataframe to an interactive table.\"\n",
              "            style=\"display:none;\">\n",
              "\n",
              "  <svg xmlns=\"http://www.w3.org/2000/svg\" height=\"24px\" viewBox=\"0 -960 960 960\">\n",
              "    <path d=\"M120-120v-720h720v720H120Zm60-500h600v-160H180v160Zm220 220h160v-160H400v160Zm0 220h160v-160H400v160ZM180-400h160v-160H180v160Zm440 0h160v-160H620v160ZM180-180h160v-160H180v160Zm440 0h160v-160H620v160Z\"/>\n",
              "  </svg>\n",
              "    </button>\n",
              "\n",
              "  <style>\n",
              "    .colab-df-container {\n",
              "      display:flex;\n",
              "      gap: 12px;\n",
              "    }\n",
              "\n",
              "    .colab-df-convert {\n",
              "      background-color: #E8F0FE;\n",
              "      border: none;\n",
              "      border-radius: 50%;\n",
              "      cursor: pointer;\n",
              "      display: none;\n",
              "      fill: #1967D2;\n",
              "      height: 32px;\n",
              "      padding: 0 0 0 0;\n",
              "      width: 32px;\n",
              "    }\n",
              "\n",
              "    .colab-df-convert:hover {\n",
              "      background-color: #E2EBFA;\n",
              "      box-shadow: 0px 1px 2px rgba(60, 64, 67, 0.3), 0px 1px 3px 1px rgba(60, 64, 67, 0.15);\n",
              "      fill: #174EA6;\n",
              "    }\n",
              "\n",
              "    .colab-df-buttons div {\n",
              "      margin-bottom: 4px;\n",
              "    }\n",
              "\n",
              "    [theme=dark] .colab-df-convert {\n",
              "      background-color: #3B4455;\n",
              "      fill: #D2E3FC;\n",
              "    }\n",
              "\n",
              "    [theme=dark] .colab-df-convert:hover {\n",
              "      background-color: #434B5C;\n",
              "      box-shadow: 0px 1px 3px 1px rgba(0, 0, 0, 0.15);\n",
              "      filter: drop-shadow(0px 1px 2px rgba(0, 0, 0, 0.3));\n",
              "      fill: #FFFFFF;\n",
              "    }\n",
              "  </style>\n",
              "\n",
              "    <script>\n",
              "      const buttonEl =\n",
              "        document.querySelector('#df-1eba9ee0-868c-4f8c-b91b-9c8a2c00b063 button.colab-df-convert');\n",
              "      buttonEl.style.display =\n",
              "        google.colab.kernel.accessAllowed ? 'block' : 'none';\n",
              "\n",
              "      async function convertToInteractive(key) {\n",
              "        const element = document.querySelector('#df-1eba9ee0-868c-4f8c-b91b-9c8a2c00b063');\n",
              "        const dataTable =\n",
              "          await google.colab.kernel.invokeFunction('convertToInteractive',\n",
              "                                                    [key], {});\n",
              "        if (!dataTable) return;\n",
              "\n",
              "        const docLinkHtml = 'Like what you see? Visit the ' +\n",
              "          '<a target=\"_blank\" href=https://colab.research.google.com/notebooks/data_table.ipynb>data table notebook</a>'\n",
              "          + ' to learn more about interactive tables.';\n",
              "        element.innerHTML = '';\n",
              "        dataTable['output_type'] = 'display_data';\n",
              "        await google.colab.output.renderOutput(dataTable, element);\n",
              "        const docLink = document.createElement('div');\n",
              "        docLink.innerHTML = docLinkHtml;\n",
              "        element.appendChild(docLink);\n",
              "      }\n",
              "    </script>\n",
              "  </div>\n",
              "\n",
              "\n",
              "    <div id=\"df-12920de5-ca93-496b-9e72-4039c718f147\">\n",
              "      <button class=\"colab-df-quickchart\" onclick=\"quickchart('df-12920de5-ca93-496b-9e72-4039c718f147')\"\n",
              "                title=\"Suggest charts\"\n",
              "                style=\"display:none;\">\n",
              "\n",
              "<svg xmlns=\"http://www.w3.org/2000/svg\" height=\"24px\"viewBox=\"0 0 24 24\"\n",
              "     width=\"24px\">\n",
              "    <g>\n",
              "        <path d=\"M19 3H5c-1.1 0-2 .9-2 2v14c0 1.1.9 2 2 2h14c1.1 0 2-.9 2-2V5c0-1.1-.9-2-2-2zM9 17H7v-7h2v7zm4 0h-2V7h2v10zm4 0h-2v-4h2v4z\"/>\n",
              "    </g>\n",
              "</svg>\n",
              "      </button>\n",
              "\n",
              "<style>\n",
              "  .colab-df-quickchart {\n",
              "      --bg-color: #E8F0FE;\n",
              "      --fill-color: #1967D2;\n",
              "      --hover-bg-color: #E2EBFA;\n",
              "      --hover-fill-color: #174EA6;\n",
              "      --disabled-fill-color: #AAA;\n",
              "      --disabled-bg-color: #DDD;\n",
              "  }\n",
              "\n",
              "  [theme=dark] .colab-df-quickchart {\n",
              "      --bg-color: #3B4455;\n",
              "      --fill-color: #D2E3FC;\n",
              "      --hover-bg-color: #434B5C;\n",
              "      --hover-fill-color: #FFFFFF;\n",
              "      --disabled-bg-color: #3B4455;\n",
              "      --disabled-fill-color: #666;\n",
              "  }\n",
              "\n",
              "  .colab-df-quickchart {\n",
              "    background-color: var(--bg-color);\n",
              "    border: none;\n",
              "    border-radius: 50%;\n",
              "    cursor: pointer;\n",
              "    display: none;\n",
              "    fill: var(--fill-color);\n",
              "    height: 32px;\n",
              "    padding: 0;\n",
              "    width: 32px;\n",
              "  }\n",
              "\n",
              "  .colab-df-quickchart:hover {\n",
              "    background-color: var(--hover-bg-color);\n",
              "    box-shadow: 0 1px 2px rgba(60, 64, 67, 0.3), 0 1px 3px 1px rgba(60, 64, 67, 0.15);\n",
              "    fill: var(--button-hover-fill-color);\n",
              "  }\n",
              "\n",
              "  .colab-df-quickchart-complete:disabled,\n",
              "  .colab-df-quickchart-complete:disabled:hover {\n",
              "    background-color: var(--disabled-bg-color);\n",
              "    fill: var(--disabled-fill-color);\n",
              "    box-shadow: none;\n",
              "  }\n",
              "\n",
              "  .colab-df-spinner {\n",
              "    border: 2px solid var(--fill-color);\n",
              "    border-color: transparent;\n",
              "    border-bottom-color: var(--fill-color);\n",
              "    animation:\n",
              "      spin 1s steps(1) infinite;\n",
              "  }\n",
              "\n",
              "  @keyframes spin {\n",
              "    0% {\n",
              "      border-color: transparent;\n",
              "      border-bottom-color: var(--fill-color);\n",
              "      border-left-color: var(--fill-color);\n",
              "    }\n",
              "    20% {\n",
              "      border-color: transparent;\n",
              "      border-left-color: var(--fill-color);\n",
              "      border-top-color: var(--fill-color);\n",
              "    }\n",
              "    30% {\n",
              "      border-color: transparent;\n",
              "      border-left-color: var(--fill-color);\n",
              "      border-top-color: var(--fill-color);\n",
              "      border-right-color: var(--fill-color);\n",
              "    }\n",
              "    40% {\n",
              "      border-color: transparent;\n",
              "      border-right-color: var(--fill-color);\n",
              "      border-top-color: var(--fill-color);\n",
              "    }\n",
              "    60% {\n",
              "      border-color: transparent;\n",
              "      border-right-color: var(--fill-color);\n",
              "    }\n",
              "    80% {\n",
              "      border-color: transparent;\n",
              "      border-right-color: var(--fill-color);\n",
              "      border-bottom-color: var(--fill-color);\n",
              "    }\n",
              "    90% {\n",
              "      border-color: transparent;\n",
              "      border-bottom-color: var(--fill-color);\n",
              "    }\n",
              "  }\n",
              "</style>\n",
              "\n",
              "      <script>\n",
              "        async function quickchart(key) {\n",
              "          const quickchartButtonEl =\n",
              "            document.querySelector('#' + key + ' button');\n",
              "          quickchartButtonEl.disabled = true;  // To prevent multiple clicks.\n",
              "          quickchartButtonEl.classList.add('colab-df-spinner');\n",
              "          try {\n",
              "            const charts = await google.colab.kernel.invokeFunction(\n",
              "                'suggestCharts', [key], {});\n",
              "          } catch (error) {\n",
              "            console.error('Error during call to suggestCharts:', error);\n",
              "          }\n",
              "          quickchartButtonEl.classList.remove('colab-df-spinner');\n",
              "          quickchartButtonEl.classList.add('colab-df-quickchart-complete');\n",
              "        }\n",
              "        (() => {\n",
              "          let quickchartButtonEl =\n",
              "            document.querySelector('#df-12920de5-ca93-496b-9e72-4039c718f147 button');\n",
              "          quickchartButtonEl.style.display =\n",
              "            google.colab.kernel.accessAllowed ? 'block' : 'none';\n",
              "        })();\n",
              "      </script>\n",
              "    </div>\n",
              "\n",
              "    </div>\n",
              "  </div>\n"
            ],
            "application/vnd.google.colaboratory.intrinsic+json": {
              "type": "dataframe",
              "summary": "{\n  \"name\": \"display(df\",\n  \"rows\": 10,\n  \"fields\": [\n    {\n      \"column\": \"text\",\n      \"properties\": {\n        \"dtype\": \"string\",\n        \"num_unique_values\": 10,\n        \"samples\": [\n          \"Looking for expertise to audit resource allocation. Must include Scrum ceremonies; stack: ClickUp; for a healthcare app; time\\u2011and\\u2011materials.\",\n          \"Looking for someone to render an exterior building with photorealistic render. Preferred stack: Unreal; for enterprise rollout; hourly engagement.\",\n          \"Interested in expertise to manage a product launch. Must include budget tracking; stack: Asana; for production; ASAP.\"\n        ],\n        \"semantic_type\": \"\",\n        \"description\": \"\"\n      }\n    },\n    {\n      \"column\": \"label\",\n      \"properties\": {\n        \"dtype\": \"category\",\n        \"num_unique_values\": 3,\n        \"samples\": [\n          \"Project Management\",\n          \"3D Modeling\",\n          \"Web Development\"\n        ],\n        \"semantic_type\": \"\",\n        \"description\": \"\"\n      }\n    }\n  ]\n}"
            }
          },
          "metadata": {}
        }
      ]
    },
    {
      "cell_type": "code",
      "source": [
        "print(\"Shape of dataset:\", df.shape)"
      ],
      "metadata": {
        "colab": {
          "base_uri": "https://localhost:8080/"
        },
        "id": "_SUUyfik8547",
        "outputId": "eb337344-5d22-4d7a-885d-f2aae9e7d0c6"
      },
      "execution_count": 4,
      "outputs": [
        {
          "output_type": "stream",
          "name": "stdout",
          "text": [
            "Shape of dataset: (12500, 2)\n"
          ]
        }
      ]
    },
    {
      "cell_type": "code",
      "source": [
        "#check for missing values\n",
        "print(\"\\nMissing values:\\n\", df.isnull().sum())\n"
      ],
      "metadata": {
        "colab": {
          "base_uri": "https://localhost:8080/"
        },
        "id": "F4pT6ZIi9386",
        "outputId": "92577c4c-d5e1-4751-c731-f858f53a6770"
      },
      "execution_count": 5,
      "outputs": [
        {
          "output_type": "stream",
          "name": "stdout",
          "text": [
            "\n",
            "Missing values:\n",
            " text     0\n",
            "label    0\n",
            "dtype: int64\n"
          ]
        }
      ]
    },
    {
      "cell_type": "code",
      "source": [
        "print(\"\\nClass distribution:\\n\", df['label'].value_counts())\n"
      ],
      "metadata": {
        "colab": {
          "base_uri": "https://localhost:8080/"
        },
        "id": "Brjdb5YV-TNW",
        "outputId": "ce6ca256-aef2-491f-ef96-a10660be2d07"
      },
      "execution_count": 6,
      "outputs": [
        {
          "output_type": "stream",
          "name": "stdout",
          "text": [
            "\n",
            "Class distribution:\n",
            " label\n",
            "Project Management    2500\n",
            "3D Modeling           2500\n",
            "Web Development       2500\n",
            "AI Solutions          2500\n",
            "Graphic Design        2500\n",
            "Name: count, dtype: int64\n"
          ]
        }
      ]
    },
    {
      "cell_type": "code",
      "source": [
        "# look for duplicates\n",
        "print(\"Duplicates:\", df.duplicated().sum())"
      ],
      "metadata": {
        "colab": {
          "base_uri": "https://localhost:8080/"
        },
        "id": "NHn21RnCx1hR",
        "outputId": "f7d6170e-17ea-4bdd-edc3-41a85fa0c2d4"
      },
      "execution_count": 7,
      "outputs": [
        {
          "output_type": "stream",
          "name": "stdout",
          "text": [
            "Duplicates: 0\n"
          ]
        }
      ]
    },
    {
      "cell_type": "code",
      "source": [
        "# text length stats\n",
        "df['text_len'] = df['text'].astype(str).apply(len)\n",
        "print(df['text_len'].describe())"
      ],
      "metadata": {
        "colab": {
          "base_uri": "https://localhost:8080/"
        },
        "id": "EDKeVMZHx1nA",
        "outputId": "383ba677-c835-41a7-8d97-7f3ab845def0"
      },
      "execution_count": 8,
      "outputs": [
        {
          "output_type": "stream",
          "name": "stdout",
          "text": [
            "count    12500.000000\n",
            "mean       119.612560\n",
            "std         14.513264\n",
            "min         69.000000\n",
            "25%        109.000000\n",
            "50%        120.000000\n",
            "75%        130.000000\n",
            "max        169.000000\n",
            "Name: text_len, dtype: float64\n"
          ]
        }
      ]
    },
    {
      "cell_type": "code",
      "source": [
        "import matplotlib.pyplot as plt\n",
        "\n",
        "# histogram of text length\n",
        "plt.figure(figsize=(8,4))\n",
        "plt.hist(df['text_len'], bins=50)\n",
        "plt.title(\"Text length distribution\")\n",
        "plt.xlabel(\"Characters\")\n",
        "plt.ylabel(\"Count\")\n",
        "plt.show()\n"
      ],
      "metadata": {
        "colab": {
          "base_uri": "https://localhost:8080/",
          "height": 410
        },
        "id": "zZyg5STjx1p1",
        "outputId": "37554c0b-b1a8-409f-b2cd-cf32d4fd8ba8"
      },
      "execution_count": 9,
      "outputs": [
        {
          "output_type": "display_data",
          "data": {
            "text/plain": [
              "<Figure size 800x400 with 1 Axes>"
            ],
            "image/png": "[encoded data removed]"
          },
          "metadata": {}
        }
      ]
    },
    {
      "cell_type": "code",
      "source": [
        "# show some random samples per class (3 each)\n",
        "for lbl in df['label'].unique():\n",
        "    print(\"----\", lbl, \"----\")\n",
        "    display(df[df['label']==lbl]['text'].sample(3, random_state=42).tolist())"
      ],
      "metadata": {
        "colab": {
          "base_uri": "https://localhost:8080/",
          "height": 364
        },
        "id": "rcNzjgXIyLxV",
        "outputId": "34af7933-7548-4f9d-84e1-16c872248366"
      },
      "execution_count": 10,
      "outputs": [
        {
          "output_type": "stream",
          "name": "stdout",
          "text": [
            "---- Project Management ----\n"
          ]
        },
        {
          "output_type": "display_data",
          "data": {
            "text/plain": [
              "['Seeking support to set up a distributed team Scrum ceremonies Tooling: Jira Context: for enterprise rollout Terms: hourly engagement',\n",
              " \"Looking for help to set up an agile transformation communication plan (MS Project). It's for internal use, this month.\",\n",
              " 'RFP: support to manage an agile transformation Scrum ceremonies. Tooling: MS Project. Context: for an edtech platform. Terms: this month.']"
            ]
          },
          "metadata": {}
        },
        {
          "output_type": "stream",
          "name": "stdout",
          "text": [
            "---- 3D Modeling ----\n"
          ]
        },
        {
          "output_type": "display_data",
          "data": {
            "text/plain": [
              "['RFP: you to retopologize a character model 4K renders using Unreal for MVP phase, NDA required.',\n",
              " 'RFP: expertise to retopologize a game asset. Must include low‑poly optimized; stack: Blender; for enterprise rollout; NDA required.',\n",
              " 'I need expertise to animate a mechanical part. Must include with PBR textures; stack: 3ds Max; for a pitch deck; hourly engagement.']"
            ]
          },
          "metadata": {}
        },
        {
          "output_type": "stream",
          "name": "stdout",
          "text": [
            "---- Web Development ----\n"
          ]
        },
        {
          "output_type": "display_data",
          "data": {
            "text/plain": [
              "['I need you to develop a landing page with admin panel using Django for a pitch deck, under $2k.',\n",
              " 'I need expertise to optimize a blog. Must include with inventory management | stack: Django | for PoC | flexible budget.',\n",
              " \"Can you help to prototype a portfolio website with analytics (Angular). It's for an e‑commerce brand, remote only.\"]"
            ]
          },
          "metadata": {}
        },
        {
          "output_type": "stream",
          "name": "stdout",
          "text": [
            "---- AI Solutions ----\n"
          ]
        },
        {
          "output_type": "display_data",
          "data": {
            "text/plain": [
              "['Interested in support to deploy fraud detection with REST API. Tooling: LangChain. Context: for a healthcare app. Terms: this month.',\n",
              " 'Looking for someone to integrate RAG assistant multilingual support. Preferred stack: PyTorch; for a fintech startup; under $2k.',\n",
              " 'Please expertise to build a recommender system. Must include on‑prem deployment; stack: PyTorch; for a healthcare app; ASAP.']"
            ]
          },
          "metadata": {}
        },
        {
          "output_type": "stream",
          "name": "stdout",
          "text": [
            "---- Graphic Design ----\n"
          ]
        },
        {
          "output_type": "display_data",
          "data": {
            "text/plain": [
              "['RFP: someone to design a logo print‑ready. Preferred stack: Adobe Illustrator; for PoC; remote only.',\n",
              " 'Interested in expertise to rebrand business cards. Must include in minimalist style; stack: Canva Pro; for an e‑commerce brand; flexible budget.',\n",
              " 'Please you to rebrand infographics print‑ready using Adobe XD for PoC, this month.']"
            ]
          },
          "metadata": {}
        }
      ]
    },
    {
      "cell_type": "markdown",
      "source": [
        "# Text Cleaning & Preprocessing"
      ],
      "metadata": {
        "id": "8hIky2eOyWQu"
      }
    },
    {
      "cell_type": "code",
      "source": [
        "nltk.download('punkt_tab')\n"
      ],
      "metadata": {
        "colab": {
          "base_uri": "https://localhost:8080/"
        },
        "id": "U6Cq4P-EurAD",
        "outputId": "37f7c83d-890c-43fb-acc6-b81d3516dd12"
      },
      "execution_count": 13,
      "outputs": [
        {
          "output_type": "stream",
          "name": "stderr",
          "text": [
            "[nltk_data] Downloading package punkt_tab to /root/nltk_data...\n",
            "[nltk_data]   Unzipping tokenizers/punkt_tab.zip.\n"
          ]
        },
        {
          "output_type": "execute_result",
          "data": {
            "text/plain": [
              "True"
            ]
          },
          "metadata": {},
          "execution_count": 13
        }
      ]
    },
    {
      "cell_type": "code",
      "source": [
        "import re\n",
        "import nltk\n",
        "from nltk.corpus import stopwords\n",
        "from nltk.stem import WordNetLemmatizer\n",
        "\n",
        "nltk.download('punkt')\n",
        "nltk.download('stopwords')\n",
        "nltk.download('wordnet')\n",
        "\n",
        "stop = set(stopwords.words('english'))\n",
        "lemmatizer = WordNetLemmatizer()\n",
        "\n",
        "def clean_text(s):\n",
        "    if not isinstance(s, str):\n",
        "        return \"\"\n",
        "    s = s.lower()\n",
        "    s = re.sub(r\"http\\S+|www\\.\\S+\", \" \", s)            # remove urls\n",
        "    s = re.sub(r\"\\S+@\\S+\", \" \", s)                    # remove emails\n",
        "    s = re.sub(r\"[\\u2013\\u2014]\", \"-\", s)              # normalize dashes\n",
        "    s = re.sub(r\"[^a-z0-9\\-\\s]\", \" \", s)              # keep alphanum, dashes, spaces\n",
        "    s = re.sub(r\"\\s+\", \" \", s).strip()\n",
        "    # optional stopword removal + lemmatize\n",
        "    tokens = nltk.word_tokenize(s)\n",
        "    tokens = [lemmatizer.lemmatize(t) for t in tokens if t not in stop and len(t)>1]\n",
        "    return \" \".join(tokens)\n",
        "\n",
        "# apply (on a copy)\n",
        "df['text_clean'] = df['text'].astype(str).apply(clean_text)\n",
        "display(df[['text','text_clean']].head(6))\n"
      ],
      "metadata": {
        "colab": {
          "base_uri": "https://localhost:8080/",
          "height": 342
        },
        "id": "Vev33SKuyLz8",
        "outputId": "3050db21-5403-4cdd-cb3a-10d61e16ff21"
      },
      "execution_count": 14,
      "outputs": [
        {
          "output_type": "stream",
          "name": "stderr",
          "text": [
            "[nltk_data] Downloading package punkt to /root/nltk_data...\n",
            "[nltk_data]   Package punkt is already up-to-date!\n",
            "[nltk_data] Downloading package stopwords to /root/nltk_data...\n",
            "[nltk_data]   Package stopwords is already up-to-date!\n",
            "[nltk_data] Downloading package wordnet to /root/nltk_data...\n",
            "[nltk_data]   Package wordnet is already up-to-date!\n"
          ]
        },
        {
          "output_type": "display_data",
          "data": {
            "text/plain": [
              "                                                text  \\\n",
              "0  Seeking expertise to set up a website redesign...   \n",
              "1  Looking for someone to render an exterior buil...   \n",
              "2  Please help to lead a distributed team risk re...   \n",
              "3  Can you someone to develop a multi‑vendor mark...   \n",
              "4  Looking for someone to maintain a CMS with pay...   \n",
              "5  Interested in expertise to manage a product la...   \n",
              "\n",
              "                                          text_clean  \n",
              "0  seeking expertise set website redesign must in...  \n",
              "1  looking someone render exterior building photo...  \n",
              "2  please help lead distributed team risk registe...  \n",
              "3  someone develop multi vendor marketplace multi...  \n",
              "4  looking someone maintain cm payment gateway pr...  \n",
              "5  interested expertise manage product launch mus...  "
            ],
            "text/html": [
              "\n",
              "  <div id=\"df-4d021f3f-ba68-43d4-bb53-ee466d57d024\" class=\"colab-df-container\">\n",
              "    <div>\n",
              "<style scoped>\n",
              "    .dataframe tbody tr th:only-of-type {\n",
              "        vertical-align: middle;\n",
              "    }\n",
              "\n",
              "    .dataframe tbody tr th {\n",
              "        vertical-align: top;\n",
              "    }\n",
              "\n",
              "    .dataframe thead th {\n",
              "        text-align: right;\n",
              "    }\n",
              "</style>\n",
              "<table border=\"1\" class=\"dataframe\">\n",
              "  <thead>\n",
              "    <tr style=\"text-align: right;\">\n",
              "      <th></th>\n",
              "      <th>text</th>\n",
              "      <th>text_clean</th>\n",
              "    </tr>\n",
              "  </thead>\n",
              "  <tbody>\n",
              "    <tr>\n",
              "      <th>0</th>\n",
              "      <td>Seeking expertise to set up a website redesign...</td>\n",
              "      <td>seeking expertise set website redesign must in...</td>\n",
              "    </tr>\n",
              "    <tr>\n",
              "      <th>1</th>\n",
              "      <td>Looking for someone to render an exterior buil...</td>\n",
              "      <td>looking someone render exterior building photo...</td>\n",
              "    </tr>\n",
              "    <tr>\n",
              "      <th>2</th>\n",
              "      <td>Please help to lead a distributed team risk re...</td>\n",
              "      <td>please help lead distributed team risk registe...</td>\n",
              "    </tr>\n",
              "    <tr>\n",
              "      <th>3</th>\n",
              "      <td>Can you someone to develop a multi‑vendor mark...</td>\n",
              "      <td>someone develop multi vendor marketplace multi...</td>\n",
              "    </tr>\n",
              "    <tr>\n",
              "      <th>4</th>\n",
              "      <td>Looking for someone to maintain a CMS with pay...</td>\n",
              "      <td>looking someone maintain cm payment gateway pr...</td>\n",
              "    </tr>\n",
              "    <tr>\n",
              "      <th>5</th>\n",
              "      <td>Interested in expertise to manage a product la...</td>\n",
              "      <td>interested expertise manage product launch mus...</td>\n",
              "    </tr>\n",
              "  </tbody>\n",
              "</table>\n",
              "</div>\n",
              "    <div class=\"colab-df-buttons\">\n",
              "\n",
              "  <div class=\"colab-df-container\">\n",
              "    <button class=\"colab-df-convert\" onclick=\"convertToInteractive('df-4d021f3f-ba68-43d4-bb53-ee466d57d024')\"\n",
              "            title=\"Convert this dataframe to an interactive table.\"\n",
              "            style=\"display:none;\">\n",
              "\n",
              "  <svg xmlns=\"http://www.w3.org/2000/svg\" height=\"24px\" viewBox=\"0 -960 960 960\">\n",
              "    <path d=\"M120-120v-720h720v720H120Zm60-500h600v-160H180v160Zm220 220h160v-160H400v160Zm0 220h160v-160H400v160ZM180-400h160v-160H180v160Zm440 0h160v-160H620v160ZM180-180h160v-160H180v160Zm440 0h160v-160H620v160Z\"/>\n",
              "  </svg>\n",
              "    </button>\n",
              "\n",
              "  <style>\n",
              "    .colab-df-container {\n",
              "      display:flex;\n",
              "      gap: 12px;\n",
              "    }\n",
              "\n",
              "    .colab-df-convert {\n",
              "      background-color: #E8F0FE;\n",
              "      border: none;\n",
              "      border-radius: 50%;\n",
              "      cursor: pointer;\n",
              "      display: none;\n",
              "      fill: #1967D2;\n",
              "      height: 32px;\n",
              "      padding: 0 0 0 0;\n",
              "      width: 32px;\n",
              "    }\n",
              "\n",
              "    .colab-df-convert:hover {\n",
              "      background-color: #E2EBFA;\n",
              "      box-shadow: 0px 1px 2px rgba(60, 64, 67, 0.3), 0px 1px 3px 1px rgba(60, 64, 67, 0.15);\n",
              "      fill: #174EA6;\n",
              "    }\n",
              "\n",
              "    .colab-df-buttons div {\n",
              "      margin-bottom: 4px;\n",
              "    }\n",
              "\n",
              "    [theme=dark] .colab-df-convert {\n",
              "      background-color: #3B4455;\n",
              "      fill: #D2E3FC;\n",
              "    }\n",
              "\n",
              "    [theme=dark] .colab-df-convert:hover {\n",
              "      background-color: #434B5C;\n",
              "      box-shadow: 0px 1px 3px 1px rgba(0, 0, 0, 0.15);\n",
              "      filter: drop-shadow(0px 1px 2px rgba(0, 0, 0, 0.3));\n",
              "      fill: #FFFFFF;\n",
              "    }\n",
              "  </style>\n",
              "\n",
              "    <script>\n",
              "      const buttonEl =\n",
              "        document.querySelector('#df-4d021f3f-ba68-43d4-bb53-ee466d57d024 button.colab-df-convert');\n",
              "      buttonEl.style.display =\n",
              "        google.colab.kernel.accessAllowed ? 'block' : 'none';\n",
              "\n",
              "      async function convertToInteractive(key) {\n",
              "        const element = document.querySelector('#df-4d021f3f-ba68-43d4-bb53-ee466d57d024');\n",
              "        const dataTable =\n",
              "          await google.colab.kernel.invokeFunction('convertToInteractive',\n",
              "                                                    [key], {});\n",
              "        if (!dataTable) return;\n",
              "\n",
              "        const docLinkHtml = 'Like what you see? Visit the ' +\n",
              "          '<a target=\"_blank\" href=https://colab.research.google.com/notebooks/data_table.ipynb>data table notebook</a>'\n",
              "          + ' to learn more about interactive tables.';\n",
              "        element.innerHTML = '';\n",
              "        dataTable['output_type'] = 'display_data';\n",
              "        await google.colab.output.renderOutput(dataTable, element);\n",
              "        const docLink = document.createElement('div');\n",
              "        docLink.innerHTML = docLinkHtml;\n",
              "        element.appendChild(docLink);\n",
              "      }\n",
              "    </script>\n",
              "  </div>\n",
              "\n",
              "\n",
              "    <div id=\"df-e2250505-3ba8-4f9a-99ac-91bfa673abe0\">\n",
              "      <button class=\"colab-df-quickchart\" onclick=\"quickchart('df-e2250505-3ba8-4f9a-99ac-91bfa673abe0')\"\n",
              "                title=\"Suggest charts\"\n",
              "                style=\"display:none;\">\n",
              "\n",
              "<svg xmlns=\"http://www.w3.org/2000/svg\" height=\"24px\"viewBox=\"0 0 24 24\"\n",
              "     width=\"24px\">\n",
              "    <g>\n",
              "        <path d=\"M19 3H5c-1.1 0-2 .9-2 2v14c0 1.1.9 2 2 2h14c1.1 0 2-.9 2-2V5c0-1.1-.9-2-2-2zM9 17H7v-7h2v7zm4 0h-2V7h2v10zm4 0h-2v-4h2v4z\"/>\n",
              "    </g>\n",
              "</svg>\n",
              "      </button>\n",
              "\n",
              "<style>\n",
              "  .colab-df-quickchart {\n",
              "      --bg-color: #E8F0FE;\n",
              "      --fill-color: #1967D2;\n",
              "      --hover-bg-color: #E2EBFA;\n",
              "      --hover-fill-color: #174EA6;\n",
              "      --disabled-fill-color: #AAA;\n",
              "      --disabled-bg-color: #DDD;\n",
              "  }\n",
              "\n",
              "  [theme=dark] .colab-df-quickchart {\n",
              "      --bg-color: #3B4455;\n",
              "      --fill-color: #D2E3FC;\n",
              "      --hover-bg-color: #434B5C;\n",
              "      --hover-fill-color: #FFFFFF;\n",
              "      --disabled-bg-color: #3B4455;\n",
              "      --disabled-fill-color: #666;\n",
              "  }\n",
              "\n",
              "  .colab-df-quickchart {\n",
              "    background-color: var(--bg-color);\n",
              "    border: none;\n",
              "    border-radius: 50%;\n",
              "    cursor: pointer;\n",
              "    display: none;\n",
              "    fill: var(--fill-color);\n",
              "    height: 32px;\n",
              "    padding: 0;\n",
              "    width: 32px;\n",
              "  }\n",
              "\n",
              "  .colab-df-quickchart:hover {\n",
              "    background-color: var(--hover-bg-color);\n",
              "    box-shadow: 0 1px 2px rgba(60, 64, 67, 0.3), 0 1px 3px 1px rgba(60, 64, 67, 0.15);\n",
              "    fill: var(--button-hover-fill-color);\n",
              "  }\n",
              "\n",
              "  .colab-df-quickchart-complete:disabled,\n",
              "  .colab-df-quickchart-complete:disabled:hover {\n",
              "    background-color: var(--disabled-bg-color);\n",
              "    fill: var(--disabled-fill-color);\n",
              "    box-shadow: none;\n",
              "  }\n",
              "\n",
              "  .colab-df-spinner {\n",
              "    border: 2px solid var(--fill-color);\n",
              "    border-color: transparent;\n",
              "    border-bottom-color: var(--fill-color);\n",
              "    animation:\n",
              "      spin 1s steps(1) infinite;\n",
              "  }\n",
              "\n",
              "  @keyframes spin {\n",
              "    0% {\n",
              "      border-color: transparent;\n",
              "      border-bottom-color: var(--fill-color);\n",
              "      border-left-color: var(--fill-color);\n",
              "    }\n",
              "    20% {\n",
              "      border-color: transparent;\n",
              "      border-left-color: var(--fill-color);\n",
              "      border-top-color: var(--fill-color);\n",
              "    }\n",
              "    30% {\n",
              "      border-color: transparent;\n",
              "      border-left-color: var(--fill-color);\n",
              "      border-top-color: var(--fill-color);\n",
              "      border-right-color: var(--fill-color);\n",
              "    }\n",
              "    40% {\n",
              "      border-color: transparent;\n",
              "      border-right-color: var(--fill-color);\n",
              "      border-top-color: var(--fill-color);\n",
              "    }\n",
              "    60% {\n",
              "      border-color: transparent;\n",
              "      border-right-color: var(--fill-color);\n",
              "    }\n",
              "    80% {\n",
              "      border-color: transparent;\n",
              "      border-right-color: var(--fill-color);\n",
              "      border-bottom-color: var(--fill-color);\n",
              "    }\n",
              "    90% {\n",
              "      border-color: transparent;\n",
              "      border-bottom-color: var(--fill-color);\n",
              "    }\n",
              "  }\n",
              "</style>\n",
              "\n",
              "      <script>\n",
              "        async function quickchart(key) {\n",
              "          const quickchartButtonEl =\n",
              "            document.querySelector('#' + key + ' button');\n",
              "          quickchartButtonEl.disabled = true;  // To prevent multiple clicks.\n",
              "          quickchartButtonEl.classList.add('colab-df-spinner');\n",
              "          try {\n",
              "            const charts = await google.colab.kernel.invokeFunction(\n",
              "                'suggestCharts', [key], {});\n",
              "          } catch (error) {\n",
              "            console.error('Error during call to suggestCharts:', error);\n",
              "          }\n",
              "          quickchartButtonEl.classList.remove('colab-df-spinner');\n",
              "          quickchartButtonEl.classList.add('colab-df-quickchart-complete');\n",
              "        }\n",
              "        (() => {\n",
              "          let quickchartButtonEl =\n",
              "            document.querySelector('#df-e2250505-3ba8-4f9a-99ac-91bfa673abe0 button');\n",
              "          quickchartButtonEl.style.display =\n",
              "            google.colab.kernel.accessAllowed ? 'block' : 'none';\n",
              "        })();\n",
              "      </script>\n",
              "    </div>\n",
              "\n",
              "    </div>\n",
              "  </div>\n"
            ],
            "application/vnd.google.colaboratory.intrinsic+json": {
              "type": "dataframe",
              "summary": "{\n  \"name\": \"display(df[['text','text_clean']]\",\n  \"rows\": 6,\n  \"fields\": [\n    {\n      \"column\": \"text\",\n      \"properties\": {\n        \"dtype\": \"string\",\n        \"num_unique_values\": 6,\n        \"samples\": [\n          \"Seeking expertise to set up a website redesign. Must include Scrum ceremonies; stack: Asana; for an e\\u2011commerce brand; fixed price.\",\n          \"Looking for someone to render an exterior building with photorealistic render. Preferred stack: Unreal; for enterprise rollout; hourly engagement.\",\n          \"Interested in expertise to manage a product launch. Must include budget tracking; stack: Asana; for production; ASAP.\"\n        ],\n        \"semantic_type\": \"\",\n        \"description\": \"\"\n      }\n    },\n    {\n      \"column\": \"text_clean\",\n      \"properties\": {\n        \"dtype\": \"string\",\n        \"num_unique_values\": 6,\n        \"samples\": [\n          \"seeking expertise set website redesign must include scrum ceremony stack asana commerce brand fixed price\",\n          \"looking someone render exterior building photorealistic render preferred stack unreal enterprise rollout hourly engagement\",\n          \"interested expertise manage product launch must include budget tracking stack asana production asap\"\n        ],\n        \"semantic_type\": \"\",\n        \"description\": \"\"\n      }\n    }\n  ]\n}"
            }
          },
          "metadata": {}
        }
      ]
    },
    {
      "cell_type": "markdown",
      "source": [
        "# Baseline model (TF-IDF + Logistic Regression)"
      ],
      "metadata": {
        "id": "Hb8JVpoqynGV"
      }
    },
    {
      "cell_type": "code",
      "source": [
        "from sklearn.model_selection import train_test_split\n",
        "from sklearn.feature_extraction.text import TfidfVectorizer\n",
        "from sklearn.linear_model import LogisticRegression\n",
        "from sklearn.pipeline import Pipeline\n",
        "from sklearn.metrics import accuracy_score, classification_report, confusion_matrix\n",
        "import joblib\n",
        "import seaborn as sns\n",
        "\n",
        "X = df['text_clean']\n",
        "y = df['label']\n",
        "\n",
        "X_train, X_test, y_train, y_test = train_test_split(\n",
        "    X, y, test_size=0.2, random_state=42, stratify=y\n",
        ")\n",
        "\n",
        "pipeline = Pipeline([\n",
        "    ('tfidf', TfidfVectorizer(ngram_range=(1,2), max_features=20000, min_df=5)),\n",
        "    ('clf', LogisticRegression(max_iter=2000, class_weight='balanced', solver='lbfgs', multi_class='auto'))\n",
        "])\n",
        "\n",
        "pipeline.fit(X_train, y_train)\n",
        "\n",
        "y_pred = pipeline.predict(X_test)\n",
        "print(\"Accuracy:\", accuracy_score(y_test, y_pred))\n",
        "print(classification_report(y_test, y_pred, digits=4))\n",
        "\n",
        "# confusion matrix\n",
        "cm = confusion_matrix(y_test, y_pred, labels=pipeline.classes_)\n",
        "sns.heatmap(cm, annot=True, fmt='d', xticklabels=pipeline.classes_, yticklabels=pipeline.classes_)\n",
        "plt.ylabel(\"True\")\n",
        "plt.xlabel(\"Pred\")\n",
        "plt.title(\"Confusion Matrix (Baseline)\")\n",
        "plt.show()\n",
        "\n",
        "# save baseline model (if you'd like)\n",
        "joblib.dump(pipeline, \"baseline_pipeline.pkl\")\n"
      ],
      "metadata": {
        "colab": {
          "base_uri": "https://localhost:8080/",
          "height": 899
        },
        "id": "o_qhVkKJyL2X",
        "outputId": "7d26fc51-a017-47ad-9977-a92e8b1cb049"
      },
      "execution_count": 15,
      "outputs": [
        {
          "output_type": "stream",
          "name": "stderr",
          "text": [
            "/usr/local/lib/python3.12/dist-packages/sklearn/linear_model/_logistic.py:1247: FutureWarning: 'multi_class' was deprecated in version 1.5 and will be removed in 1.7. From then on, it will always use 'multinomial'. Leave it to its default value to avoid this warning.\n",
            "  warnings.warn(\n"
          ]
        },
        {
          "output_type": "stream",
          "name": "stdout",
          "text": [
            "Accuracy: 1.0\n",
            "                    precision    recall  f1-score   support\n",
            "\n",
            "       3D Modeling     1.0000    1.0000    1.0000       500\n",
            "      AI Solutions     1.0000    1.0000    1.0000       500\n",
            "    Graphic Design     1.0000    1.0000    1.0000       500\n",
            "Project Management     1.0000    1.0000    1.0000       500\n",
            "   Web Development     1.0000    1.0000    1.0000       500\n",
            "\n",
            "          accuracy                         1.0000      2500\n",
            "         macro avg     1.0000    1.0000    1.0000      2500\n",
            "      weighted avg     1.0000    1.0000    1.0000      2500\n",
            "\n"
          ]
        },
        {
          "output_type": "display_data",
          "data": {
            "text/plain": [
              "<Figure size 640x480 with 2 Axes>"
            ],
            "image/png": "[encoded data removed]"
          },
          "metadata": {}
        },
        {
          "output_type": "execute_result",
          "data": {
            "text/plain": [
              "['baseline_pipeline.pkl']"
            ]
          },
          "metadata": {},
          "execution_count": 15
        }
      ]
    },
    {
      "cell_type": "markdown",
      "source": [
        "# Improved model (Random Forest or SVM)"
      ],
      "metadata": {
        "id": "KKvG6uC9zb4d"
      }
    },
    {
      "cell_type": "code",
      "source": [
        "from sklearn.ensemble import RandomForestClassifier\n",
        "from sklearn.model_selection import GridSearchCV\n",
        "\n",
        "pipeline_rf = Pipeline([\n",
        "    ('tfidf', TfidfVectorizer(ngram_range=(1,2), max_features=20000, min_df=5)),\n",
        "    ('clf', RandomForestClassifier(n_estimators=300, random_state=42, n_jobs=-1))\n",
        "])\n",
        "\n",
        "pipeline_rf.fit(X_train, y_train)\n",
        "y_pred_rf = pipeline_rf.predict(X_test)\n",
        "print(\"RF Accuracy:\", accuracy_score(y_test, y_pred_rf))\n",
        "print(classification_report(y_test, y_pred_rf, digits=4))\n",
        "joblib.dump(pipeline_rf, \"rf_pipeline.pkl\")\n"
      ],
      "metadata": {
        "colab": {
          "base_uri": "https://localhost:8080/"
        },
        "id": "mZCd8KmlyL5a",
        "outputId": "d324f55c-106c-4b6c-ac6a-492cbe5a3caa"
      },
      "execution_count": 16,
      "outputs": [
        {
          "output_type": "stream",
          "name": "stdout",
          "text": [
            "RF Accuracy: 1.0\n",
            "                    precision    recall  f1-score   support\n",
            "\n",
            "       3D Modeling     1.0000    1.0000    1.0000       500\n",
            "      AI Solutions     1.0000    1.0000    1.0000       500\n",
            "    Graphic Design     1.0000    1.0000    1.0000       500\n",
            "Project Management     1.0000    1.0000    1.0000       500\n",
            "   Web Development     1.0000    1.0000    1.0000       500\n",
            "\n",
            "          accuracy                         1.0000      2500\n",
            "         macro avg     1.0000    1.0000    1.0000      2500\n",
            "      weighted avg     1.0000    1.0000    1.0000      2500\n",
            "\n"
          ]
        },
        {
          "output_type": "execute_result",
          "data": {
            "text/plain": [
              "['rf_pipeline.pkl']"
            ]
          },
          "metadata": {},
          "execution_count": 16
        }
      ]
    },
    {
      "cell_type": "code",
      "source": [
        "print(\"Train size:\", X_train.shape[0], \"Test size:\", X_test.shape[0])\n",
        "print(\"Example prediction check:\")\n",
        "print(X_test.iloc[0])\n",
        "print(\"Predicted:\", pipeline_rf.predict([X_test.iloc[0]])[0])\n"
      ],
      "metadata": {
        "id": "Fbp6T4K3yL7o",
        "colab": {
          "base_uri": "https://localhost:8080/"
        },
        "outputId": "45d3f6e6-b534-4c5e-ed58-fe4b6947a5b8"
      },
      "execution_count": 17,
      "outputs": [
        {
          "output_type": "stream",
          "name": "stdout",
          "text": [
            "Train size: 10000 Test size: 2500\n",
            "Example prediction check:\n",
            "need coordinate pmo budget tracking using trello internal use 2k\n",
            "Predicted: Project Management\n"
          ]
        }
      ]
    },
    {
      "cell_type": "code",
      "source": [
        "import numpy as np\n",
        "from sklearn.feature_extraction.text import TfidfVectorizer\n",
        "tfidf = pipeline_rf.named_steps['tfidf']\n",
        "feature_names = tfidf.get_feature_names_out()\n",
        "clf = pipeline_rf.named_steps['clf']\n",
        "\n",
        "for i, label in enumerate(clf.classes_):\n",
        "    top10 = np.argsort(clf.feature_importances_)[::-1][:10]\n",
        "    print(label, [feature_names[j] for j in top10])\n"
      ],
      "metadata": {
        "id": "DCvAPjYqyL-W",
        "colab": {
          "base_uri": "https://localhost:8080/"
        },
        "outputId": "86f42454-268f-446c-865a-2dad139ccaeb"
      },
      "execution_count": 18,
      "outputs": [
        {
          "output_type": "stream",
          "name": "stdout",
          "text": [
            "3D Modeling ['adobe', 'render', 'photoshop', 'figma', 'plan', 'project', 'jira', '3d', 'texture', 'model']\n",
            "AI Solutions ['adobe', 'render', 'photoshop', 'figma', 'plan', 'project', 'jira', '3d', 'texture', 'model']\n",
            "Graphic Design ['adobe', 'render', 'photoshop', 'figma', 'plan', 'project', 'jira', '3d', 'texture', 'model']\n",
            "Project Management ['adobe', 'render', 'photoshop', 'figma', 'plan', 'project', 'jira', '3d', 'texture', 'model']\n",
            "Web Development ['adobe', 'render', 'photoshop', 'figma', 'plan', 'project', 'jira', '3d', 'texture', 'model']\n"
          ]
        }
      ]
    },
    {
      "cell_type": "code",
      "source": [
        "log_reg = pipeline.named_steps['clf']  # Assuming your Logistic Regression pipeline\n",
        "feature_names = pipeline.named_steps['tfidf'].get_feature_names_out()\n",
        "\n",
        "for i, label in enumerate(log_reg.classes_):\n",
        "    top10 = np.argsort(log_reg.coef_[i])[-10:]\n",
        "    print(f\"\\nClass: {label}\")\n",
        "    print([feature_names[j] for j in top10])\n"
      ],
      "metadata": {
        "id": "0f374CKvyMAm",
        "colab": {
          "base_uri": "https://localhost:8080/"
        },
        "outputId": "551e275f-bf81-43ed-8f51-826eb49786db"
      },
      "execution_count": 19,
      "outputs": [
        {
          "output_type": "stream",
          "name": "stdout",
          "text": [
            "\n",
            "Class: 3D Modeling\n",
            "['unity', 'retopologize', 'animate', 'blender', 'maya', 'asset', 'model', 'texture', '3d', 'render']\n",
            "\n",
            "Class: AI Solutions\n",
            "['develop', 'langchain', 'chatbot', 'pytorch', 'python', 'analytics dashboard', 'api', 'evaluate', 'integrate', 'deploy']\n",
            "\n",
            "Class: Graphic Design\n",
            "['canva', 'canva pro', 'pro', 'rebrand', 'layout', 'illustrate', 'refresh', 'adobe', 'figma', 'photoshop']\n",
            "\n",
            "Class: Project Management\n",
            "['coordinate', 'roadmap', 'manage', 'asana', 'trello', 'clickup', 'notion', 'project', 'jira', 'plan']\n",
            "\n",
            "Class: Web Development\n",
            "['api integration', 'flask', 'cm', 'fastapi', 'laravel', 'blog', 'django', 'angular', 'site', 'booking']\n"
          ]
        }
      ]
    },
    {
      "cell_type": "code",
      "source": [
        "# Example user input\n",
        "user_input = \"Need a 3D animation for a product prototype using Blender.\"\n",
        "pred_label = pipeline.predict([user_input])[0]\n",
        "pred_proba = pipeline.predict_proba([user_input])[0]\n",
        "confidence = round(pred_proba.max() * 100, 2)\n",
        "\n",
        "print(f\"Input: {user_input}\")\n",
        "print(f\"Predicted Category: {pred_label}\")\n",
        "print(f\"Confidence: {confidence}%\")\n"
      ],
      "metadata": {
        "id": "Zc1JYIOwyMCs",
        "colab": {
          "base_uri": "https://localhost:8080/"
        },
        "outputId": "058214de-b007-4099-c389-2c2fdf62e2f4"
      },
      "execution_count": 20,
      "outputs": [
        {
          "output_type": "stream",
          "name": "stdout",
          "text": [
            "Input: Need a 3D animation for a product prototype using Blender.\n",
            "Predicted Category: 3D Modeling\n",
            "Confidence: 97.0%\n"
          ]
        }
      ]
    },
    {
      "cell_type": "code",
      "source": [
        "while True:\n",
        "    text = input(\"Enter a client inquiry (or type 'exit' to stop): \")\n",
        "    if text.lower() == 'exit':\n",
        "        break\n",
        "    pred = pipeline.predict([text])[0]\n",
        "    conf = round(pipeline.predict_proba([text])[0].max() * 100, 2)\n",
        "    print(f\"Predicted: {pred} | Confidence: {conf}%\\n\")\n"
      ],
      "metadata": {
        "id": "3TYZSfVMyMFI",
        "colab": {
          "base_uri": "https://localhost:8080/"
        },
        "outputId": "51bed8fd-190e-4d96-97f9-2f0446fa6682"
      },
      "execution_count": 21,
      "outputs": [
        {
          "name": "stdout",
          "output_type": "stream",
          "text": [
            "Enter a client inquiry (or type 'exit' to stop): Need machine learning engineer to solve complex AI projects\n",
            "Predicted: AI Solutions | Confidence: 63.9%\n",
            "\n",
            "Enter a client inquiry (or type 'exit' to stop): exit\n"
          ]
        }
      ]
    },
    {
      "cell_type": "code",
      "source": [
        "print(type(model))\n"
      ],
      "metadata": {
        "colab": {
          "base_uri": "https://localhost:8080/",
          "height": 141
        },
        "id": "mRXJYYR0vAhD",
        "outputId": "182b9b49-d32b-4b16-fab3-c0d0a5b1be43"
      },
      "execution_count": 22,
      "outputs": [
        {
          "output_type": "error",
          "ename": "NameError",
          "evalue": "name 'model' is not defined",
          "traceback": [
            "\u001b[0;31m---------------------------------------------------------------------------\u001b[0m",
            "\u001b[0;31mNameError\u001b[0m                                 Traceback (most recent call last)",
            "\u001b[0;32m/tmp/ipython-input-1258072339.py\u001b[0m in \u001b[0;36m<cell line: 0>\u001b[0;34m()\u001b[0m\n\u001b[0;32m----> 1\u001b[0;31m \u001b[0mprint\u001b[0m\u001b[0;34m(\u001b[0m\u001b[0mtype\u001b[0m\u001b[0;34m(\u001b[0m\u001b[0mmodel\u001b[0m\u001b[0;34m)\u001b[0m\u001b[0;34m)\u001b[0m\u001b[0;34m\u001b[0m\u001b[0;34m\u001b[0m\u001b[0m\n\u001b[0m",
            "\u001b[0;31mNameError\u001b[0m: name 'model' is not defined"
          ]
        }
      ]
    },
    {
      "cell_type": "code",
      "source": [
        "import joblib\n",
        "\n",
        "# Save the trained pipeline\n",
        "joblib.dump(pipeline, \"service_classifier.pkl\")\n",
        "print(\"✅ Model saved as service_classifier.pkl\")\n"
      ],
      "metadata": {
        "id": "hdxUD08QyMHc",
        "colab": {
          "base_uri": "https://localhost:8080/"
        },
        "outputId": "794cf2a3-23b8-4cd6-bb0a-ce8bb10f083b"
      },
      "execution_count": 23,
      "outputs": [
        {
          "output_type": "stream",
          "name": "stdout",
          "text": [
            "✅ Model saved as service_classifier.pkl\n"
          ]
        }
      ]
    },
    {
      "cell_type": "code",
      "source": [
        "# Load model\n",
        "loaded_model = joblib.load(\"service_classifier.pkl\")\n",
        "\n",
        "# Test prediction\n",
        "print(loaded_model.predict([\"Need a logo design for my brand\"]))\n"
      ],
      "metadata": {
        "id": "AEFZa7v8x1sr",
        "colab": {
          "base_uri": "https://localhost:8080/"
        },
        "outputId": "0ec08830-6ad7-4a30-c354-df704c1c25e9"
      },
      "execution_count": 24,
      "outputs": [
        {
          "output_type": "stream",
          "name": "stdout",
          "text": [
            "['Graphic Design']\n"
          ]
        }
      ]
    },
    {
      "cell_type": "code",
      "source": [
        "import joblib\n",
        "\n",
        "# Save the pipeline (which includes TF-IDF + Logistic Regression)\n",
        "joblib.dump(pipeline, 'job_classification_model.pkl')\n"
      ],
      "metadata": {
        "colab": {
          "base_uri": "https://localhost:8080/"
        },
        "id": "f6mTqqgD2PCX",
        "outputId": "7ff23541-1578-4bfd-9b7b-09d69d24c2bf"
      },
      "execution_count": 25,
      "outputs": [
        {
          "output_type": "execute_result",
          "data": {
            "text/plain": [
              "['job_classification_model.pkl']"
            ]
          },
          "metadata": {},
          "execution_count": 25
        }
      ]
    },
    {
      "cell_type": "code",
      "source": [
        "from google.colab import files\n",
        "files.download('job_classification_model.pkl')\n"
      ],
      "metadata": {
        "id": "w-YBJvg_2f49",
        "outputId": "a90f4800-c8d3-45d8-878b-5fc6f55b237f",
        "colab": {
          "base_uri": "https://localhost:8080/",
          "height": 17
        }
      },
      "execution_count": 26,
      "outputs": [
        {
          "output_type": "display_data",
          "data": {
            "text/plain": [
              "<IPython.core.display.Javascript object>"
            ],
            "application/javascript": [
              "\n",
              "    async function download(id, filename, size) {\n",
              "      if (!google.colab.kernel.accessAllowed) {\n",
              "        return;\n",
              "      }\n",
              "      const div = document.createElement('div');\n",
              "      const label = document.createElement('label');\n",
              "      label.textContent = `Downloading \"${filename}\": `;\n",
              "      div.appendChild(label);\n",
              "      const progress = document.createElement('progress');\n",
              "      progress.max = size;\n",
              "      div.appendChild(progress);\n",
              "      document.body.appendChild(div);\n",
              "\n",
              "      const buffers = [];\n",
              "      let downloaded = 0;\n",
              "\n",
              "      const channel = await google.colab.kernel.comms.open(id);\n",
              "      // Send a message to notify the kernel that we're ready.\n",
              "      channel.send({})\n",
              "\n",
              "      for await (const message of channel.messages) {\n",
              "        // Send a message to notify the kernel that we're ready.\n",
              "        channel.send({})\n",
              "        if (message.buffers) {\n",
              "          for (const buffer of message.buffers) {\n",
              "            buffers.push(buffer);\n",
              "            downloaded += buffer.byteLength;\n",
              "            progress.value = downloaded;\n",
              "          }\n",
              "        }\n",
              "      }\n",
              "      const blob = new Blob(buffers, {type: 'application/binary'});\n",
              "      const a = document.createElement('a');\n",
              "      a.href = window.URL.createObjectURL(blob);\n",
              "      a.download = filename;\n",
              "      div.appendChild(a);\n",
              "      a.click();\n",
              "      div.remove();\n",
              "    }\n",
              "  "
            ]
          },
          "metadata": {}
        },
        {
          "output_type": "display_data",
          "data": {
            "text/plain": [
              "<IPython.core.display.Javascript object>"
            ],
            "application/javascript": [
              "download(\"download_110dc9fb-d073-4dcd-9428-d5399720c57c\", \"job_classification_model.pkl\", 245652)"
            ]
          },
          "metadata": {}
        }
      ]
    },
    {
      "cell_type": "code",
      "source": [
        "import joblib\n",
        "\n",
        "# Load the model from the saved file\n",
        "model = joblib.load('job_classification_model.pkl')\n",
        "\n",
        "print(type(model))\n"
      ],
      "metadata": {
        "colab": {
          "base_uri": "https://localhost:8080/"
        },
        "id": "Agt1XNitwPnB",
        "outputId": "719bfbbe-5e92-4aa9-c8ed-2e3ee54f038a"
      },
      "execution_count": 28,
      "outputs": [
        {
          "output_type": "stream",
          "name": "stdout",
          "text": [
            "<class 'sklearn.pipeline.Pipeline'>\n"
          ]
        }
      ]
    },
    {
      "cell_type": "code",
      "source": [
        "import pickle\n",
        "\n",
        "# Example of saving\n",
        "with open('job_classification_model.pkl', 'wb') as f:\n",
        "    pickle.dump(model, f)\n"
      ],
      "metadata": {
        "id": "DrQ3Z8eqw4mu"
      },
      "execution_count": 29,
      "outputs": []
    },
    {
      "cell_type": "code",
      "source": [
        "print(type(model))\n"
      ],
      "metadata": {
        "colab": {
          "base_uri": "https://localhost:8080/",
          "height": 141
        },
        "id": "i5wRVS6svWqK",
        "outputId": "eb6283a9-b2c6-44fd-8e15-03445837aa94"
      },
      "execution_count": 27,
      "outputs": [
        {
          "output_type": "error",
          "ename": "NameError",
          "evalue": "name 'model' is not defined",
          "traceback": [
            "\u001b[0;31m---------------------------------------------------------------------------\u001b[0m",
            "\u001b[0;31mNameError\u001b[0m                                 Traceback (most recent call last)",
            "\u001b[0;32m/tmp/ipython-input-1258072339.py\u001b[0m in \u001b[0;36m<cell line: 0>\u001b[0;34m()\u001b[0m\n\u001b[0;32m----> 1\u001b[0;31m \u001b[0mprint\u001b[0m\u001b[0;34m(\u001b[0m\u001b[0mtype\u001b[0m\u001b[0;34m(\u001b[0m\u001b[0mmodel\u001b[0m\u001b[0;34m)\u001b[0m\u001b[0;34m)\u001b[0m\u001b[0;34m\u001b[0m\u001b[0;34m\u001b[0m\u001b[0m\n\u001b[0m",
            "\u001b[0;31mNameError\u001b[0m: name 'model' is not defined"
          ]
        }
      ]
    },
    {
      "cell_type": "code",
      "source": [
        "!ls -lh job_classification_model.pkl\n"
      ],
      "metadata": {
        "colab": {
          "base_uri": "https://localhost:8080/"
        },
        "id": "TIQsInxAzAQ1",
        "outputId": "95d84861-b4dd-482e-ff76-187b1d2062be"
      },
      "execution_count": 30,
      "outputs": [
        {
          "output_type": "stream",
          "name": "stdout",
          "text": [
            "-rw-r--r-- 1 root root 240K Aug 31 06:14 job_classification_model.pkl\n"
          ]
        }
      ]
    },
    {
      "cell_type": "code",
      "source": [
        "import joblib\n",
        "\n",
        "# Assuming your pipeline model is called 'model'\n",
        "joblib.dump(model, 'job_classification_model.pkl')\n"
      ],
      "metadata": {
        "colab": {
          "base_uri": "https://localhost:8080/"
        },
        "id": "gPX_iurPzA3e",
        "outputId": "9f68af96-2826-49e3-a94c-396d9e0491e4"
      },
      "execution_count": 31,
      "outputs": [
        {
          "output_type": "execute_result",
          "data": {
            "text/plain": [
              "['job_classification_model.pkl']"
            ]
          },
          "metadata": {},
          "execution_count": 31
        }
      ]
    },
    {
      "cell_type": "code",
      "source": [
        "from google.colab import files\n",
        "files.download('job_classification_model.pkl')\n"
      ],
      "metadata": {
        "colab": {
          "base_uri": "https://localhost:8080/",
          "height": 17
        },
        "id": "ec4fHQcfzD_X",
        "outputId": "a1148dfb-5f6c-48c5-ffd1-00d1388cf903"
      },
      "execution_count": 32,
      "outputs": [
        {
          "output_type": "display_data",
          "data": {
            "text/plain": [
              "<IPython.core.display.Javascript object>"
            ],
            "application/javascript": [
              "\n",
              "    async function download(id, filename, size) {\n",
              "      if (!google.colab.kernel.accessAllowed) {\n",
              "        return;\n",
              "      }\n",
              "      const div = document.createElement('div');\n",
              "      const label = document.createElement('label');\n",
              "      label.textContent = `Downloading \"${filename}\": `;\n",
              "      div.appendChild(label);\n",
              "      const progress = document.createElement('progress');\n",
              "      progress.max = size;\n",
              "      div.appendChild(progress);\n",
              "      document.body.appendChild(div);\n",
              "\n",
              "      const buffers = [];\n",
              "      let downloaded = 0;\n",
              "\n",
              "      const channel = await google.colab.kernel.comms.open(id);\n",
              "      // Send a message to notify the kernel that we're ready.\n",
              "      channel.send({})\n",
              "\n",
              "      for await (const message of channel.messages) {\n",
              "        // Send a message to notify the kernel that we're ready.\n",
              "        channel.send({})\n",
              "        if (message.buffers) {\n",
              "          for (const buffer of message.buffers) {\n",
              "            buffers.push(buffer);\n",
              "            downloaded += buffer.byteLength;\n",
              "            progress.value = downloaded;\n",
              "          }\n",
              "        }\n",
              "      }\n",
              "      const blob = new Blob(buffers, {type: 'application/binary'});\n",
              "      const a = document.createElement('a');\n",
              "      a.href = window.URL.createObjectURL(blob);\n",
              "      a.download = filename;\n",
              "      div.appendChild(a);\n",
              "      a.click();\n",
              "      div.remove();\n",
              "    }\n",
              "  "
            ]
          },
          "metadata": {}
        },
        {
          "output_type": "display_data",
          "data": {
            "text/plain": [
              "<IPython.core.display.Javascript object>"
            ],
            "application/javascript": [
              "download(\"download_bcb762bd-42ff-4bf7-96ad-5a876fbb2443\", \"job_classification_model.pkl\", 245652)"
            ]
          },
          "metadata": {}
        }
      ]
    },
    {
      "cell_type": "code",
      "source": [
        "import joblib\n",
        "\n",
        "model = joblib.load(\"job_classification_model.pkl\")\n",
        "print(model)\n"
      ],
      "metadata": {
        "colab": {
          "base_uri": "https://localhost:8080/"
        },
        "id": "AWZ8krVMzGmh",
        "outputId": "5bcd5cc4-da3f-43e8-e2eb-63e493e932ff"
      },
      "execution_count": 33,
      "outputs": [
        {
          "output_type": "stream",
          "name": "stdout",
          "text": [
            "Pipeline(steps=[('tfidf',\n",
            "                 TfidfVectorizer(max_features=20000, min_df=5,\n",
            "                                 ngram_range=(1, 2))),\n",
            "                ('clf',\n",
            "                 LogisticRegression(class_weight='balanced', max_iter=2000,\n",
            "                                    multi_class='auto'))])\n"
          ]
        }
      ]
    },
    {
      "cell_type": "code",
      "source": [
        "print(hasattr(model.named_steps['tfidf'], 'idf_'))\n"
      ],
      "metadata": {
        "colab": {
          "base_uri": "https://localhost:8080/"
        },
        "id": "GpGItmVi1EPZ",
        "outputId": "116289c7-d053-485e-e4d6-142cd52d31cc"
      },
      "execution_count": 34,
      "outputs": [
        {
          "output_type": "stream",
          "name": "stdout",
          "text": [
            "True\n"
          ]
        }
      ]
    },
    {
      "cell_type": "code",
      "source": [
        "model.fit(X_train, y_train)\n",
        "joblib.dump(model, \"job_classification_model.pkl\")\n"
      ],
      "metadata": {
        "colab": {
          "base_uri": "https://localhost:8080/"
        },
        "id": "rUzQ81Tm1fyn",
        "outputId": "059eb5bc-8e37-41e0-b628-ac12bf3f19ff"
      },
      "execution_count": 35,
      "outputs": [
        {
          "output_type": "stream",
          "name": "stderr",
          "text": [
            "/usr/local/lib/python3.12/dist-packages/sklearn/linear_model/_logistic.py:1247: FutureWarning: 'multi_class' was deprecated in version 1.5 and will be removed in 1.7. From then on, it will always use 'multinomial'. Leave it to its default value to avoid this warning.\n",
            "  warnings.warn(\n"
          ]
        },
        {
          "output_type": "execute_result",
          "data": {
            "text/plain": [
              "['job_classification_model.pkl']"
            ]
          },
          "metadata": {},
          "execution_count": 35
        }
      ]
    },
    {
      "cell_type": "code",
      "source": [],
      "metadata": {
        "id": "4SirWka11kb1"
      },
      "execution_count": null,
      "outputs": []
    }
  ]
}